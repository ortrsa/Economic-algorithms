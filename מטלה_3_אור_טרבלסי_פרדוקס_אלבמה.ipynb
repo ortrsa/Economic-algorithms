{
  "nbformat": 4,
  "nbformat_minor": 0,
  "metadata": {
    "colab": {
      "provenance": [],
      "authorship_tag": "ABX9TyPYj8QDO5qGLY2AqKUr38PD",
      "include_colab_link": true
    },
    "kernelspec": {
      "name": "python3",
      "display_name": "Python 3"
    },
    "language_info": {
      "name": "python"
    }
  },
  "cells": [
    {
      "cell_type": "markdown",
      "metadata": {
        "id": "view-in-github",
        "colab_type": "text"
      },
      "source": [
        "<a href=\"https://colab.research.google.com/github/ortrsa/Economic-algorithms/blob/main/%D7%9E%D7%98%D7%9C%D7%94_3_%D7%90%D7%95%D7%A8_%D7%98%D7%A8%D7%91%D7%9C%D7%A1%D7%99_%D7%A4%D7%A8%D7%93%D7%95%D7%A7%D7%A1_%D7%90%D7%9C%D7%91%D7%9E%D7%94.ipynb\" target=\"_parent\"><img src=\"https://colab.research.google.com/assets/colab-badge.svg\" alt=\"Open In Colab\"/></a>"
      ]
    },
    {
      "cell_type": "markdown",
      "source": [
        "# מטלה 3 אור טרבלסי \n",
        "## שאלה 5 פרדוקס אלבמה\n",
        "\n"
      ],
      "metadata": {
        "id": "JQuA1zCcQxgl"
      }
    },
    {
      "cell_type": "markdown",
      "source": [
        "בניתי הפונקציה המחפשת פרדוקס אלבמה לפי אלגוריתם המילטון\n",
        "אפשר לראות בדוגמה הבאה שכאשר יש 3 מדינות עם 10,20 ו50 תושבים בהתאם.\n",
        "מתקיים הפרדוקס כשעוברים מ 2 ל 3 כיסאות.  \n",
        "\n",
        "זכויות לפי המילטון  \n",
        "\n",
        "|   | 10    | 20   | 50    |\n",
        "|---|-------|------|-------|\n",
        "| 2 | 0.25  | 0.5  | 1.25  |\n",
        "| 3 | 0.375 | 0.75 | 1.875 |\n",
        "\n",
        "חלוקה\n",
        "\n",
        "|   | 10    | 20   | 50    |\n",
        "|---|-------|------|-------|\n",
        "| 2 | 0 | 1  | 1 |  \n",
        "| 3 | 0 | 0 | 2 |  "
      ],
      "metadata": {
        "id": "vopAfgOdR0Fg"
      }
    },
    {
      "cell_type": "markdown",
      "source": [
        "בהמשך המחברת יש את הפונקציה:"
      ],
      "metadata": {
        "id": "VgL10GJQUSV7"
      }
    },
    {
      "cell_type": "markdown",
      "source": [
        "# הוכחת סעיף ב"
      ],
      "metadata": {
        "id": "58whYb8rUXih"
      }
    },
    {
      "cell_type": "markdown",
      "source": [
        "<div dir=rtl>\n",
        "לפי הדרך ששיטת-מחלק עובדת אין אפשרות שמספר הכסאות ירד למדינה מסוימת אם יוסיפו כיסאות,\n",
        "\n",
        "כאשר יש n כיסאות לחלק, השיטה תחלק את כל הכיסאות בין כל המדינות.\n",
        "\n",
        "וכאשר יש n+1 כיסאות לחלק, השיטה תחלק n כיסאות בדיוק כמו הדרך הקודמת ואת הכיסא האחרון היא תוסיף למדינה עם המספר הכי גבוהה באיטרציה הזאת.\n",
        "\n",
        "האיטרציות ממשיכות עד שלא נשאר כיסאות לחלק, אך עבור כל מספר כיסאות סדר חלוקת הכיסאות יהיה זהה עד הכיסא האחרון.\n",
        "\n",
        "כך אין שום אפשרות לגרוע ממדינה מסוימת כאשר מוסיפים כיסאות.\n",
        "\n",
        "\n",
        "</div>\n"
      ],
      "metadata": {
        "id": "g3m6_VuUUom2"
      }
    },
    {
      "cell_type": "code",
      "execution_count": 144,
      "metadata": {
        "id": "IrgA9lLY_SKt"
      },
      "outputs": [],
      "source": [
        "# פונקציה לחיפוש פרדוקס אלבמה\n",
        "def Hamilton(a,b,c, print_dec = False, check_range = range(1,11)):\n",
        "  print(\"      \", a,\" \",b,\" \",c)\n",
        "  a_prv = -1\n",
        "  b_prv = -1\n",
        "  c_prv = -1\n",
        "  for i in check_range:\n",
        "    summ = a+b+c\n",
        "    \n",
        "    a_full = (a*i)/summ\n",
        "    b_full = (b*i)/summ\n",
        "    c_full = (c*i)/summ\n",
        "\n",
        "    a_dec = a_full - int(a_full)\n",
        "    b_dec = b_full - int(b_full)\n",
        "    c_dec = c_full - int(c_full)\n",
        "\n",
        "    a_ans = int(a_full)\n",
        "    b_ans = int(b_full)\n",
        "    c_ans = int(c_full)\n",
        "\n",
        "    sum_ans = a_ans + b_ans + c_ans\n",
        "\n",
        "    if a_dec >= b_dec and a_dec >= c_dec and  sum_ans < i:\n",
        "      a_ans +=1\n",
        "      sum_ans = a_ans + b_ans + c_ans\n",
        "\n",
        "    if b_dec >= a_dec and b_dec >= c_dec and  sum_ans < i:\n",
        "      b_ans +=1\n",
        "      sum_ans = a_ans + b_ans + c_ans\n",
        "\n",
        "    if c_dec >= b_dec and c_dec >= a_dec and  sum_ans < i:\n",
        "      c_ans +=1\n",
        "      sum_ans = a_ans + b_ans + c_ans\n",
        "    \n",
        "    if print_dec:\n",
        "      print(\"i=\", i ,\" \", a_full ,\" \",  b_full,\" \", c_full )\n",
        "    else:\n",
        "      print(\"i=\", i ,\" \", a_ans,\" \",  b_ans,\" \", c_ans )\n",
        "    if a_prv > a_ans or b_prv > b_ans or c_prv > c_ans:\n",
        "      print(\"Paradox!\", i)\n",
        "    a_prv = a_ans\n",
        "    b_prv = b_ans\n",
        "    c_prv = c_ans\n",
        "    print()"
      ]
    },
    {
      "cell_type": "code",
      "source": [
        "# נמצא פרדוקס ב 3 כיסאות עם מספר התושבים הבא:\n",
        "Hamilton(10,20,50, False, range(2,4))"
      ],
      "metadata": {
        "colab": {
          "base_uri": "https://localhost:8080/"
        },
        "id": "FdcSICkh_w2f",
        "outputId": "9fc599ae-74d9-4b19-f7af-754eab47f4bd"
      },
      "execution_count": 151,
      "outputs": [
        {
          "output_type": "stream",
          "name": "stdout",
          "text": [
            "       10   20   50\n",
            "i= 2   0   1   1\n",
            "\n",
            "i= 3   0   0   2\n",
            "Paradox! 3\n",
            "\n"
          ]
        }
      ]
    },
    {
      "cell_type": "code",
      "source": [
        "Hamilton(10,20,50,True, range(2,4))"
      ],
      "metadata": {
        "colab": {
          "base_uri": "https://localhost:8080/"
        },
        "id": "oHHaShjgOprw",
        "outputId": "9a7f25d6-d37c-41b5-dd20-84a5996ef858"
      },
      "execution_count": 146,
      "outputs": [
        {
          "output_type": "stream",
          "name": "stdout",
          "text": [
            "       10   20   50\n",
            "i= 2   0.25   0.5   1.25\n",
            "\n",
            "i= 3   0.375   0.75   1.875\n",
            "Paradox! 3\n",
            "\n"
          ]
        }
      ]
    },
    {
      "cell_type": "code",
      "source": [
        "# עוד דוגמה:\n",
        "Hamilton(10,100,100)"
      ],
      "metadata": {
        "colab": {
          "base_uri": "https://localhost:8080/"
        },
        "id": "GUQI19poLrdJ",
        "outputId": "e6299f8c-57a0-4bb6-bbc4-2fd68cb34e22"
      },
      "execution_count": 152,
      "outputs": [
        {
          "output_type": "stream",
          "name": "stdout",
          "text": [
            "       10   100   100\n",
            "i= 1   0   1   0\n",
            "\n",
            "i= 2   0   1   1\n",
            "\n",
            "i= 3   0   2   1\n",
            "\n",
            "i= 4   0   2   2\n",
            "\n",
            "i= 5   0   3   2\n",
            "\n",
            "i= 6   0   3   3\n",
            "\n",
            "i= 7   0   4   3\n",
            "\n",
            "i= 8   0   4   4\n",
            "\n",
            "i= 9   1   4   4\n",
            "\n",
            "i= 10   0   5   5\n",
            "Paradox! 10\n",
            "\n"
          ]
        }
      ]
    },
    {
      "cell_type": "code",
      "source": [
        "Hamilton(10,100,100,True, range(9,11))"
      ],
      "metadata": {
        "colab": {
          "base_uri": "https://localhost:8080/"
        },
        "id": "5l7OgHYONi0E",
        "outputId": "bbe3c8a5-9dd4-4727-daf9-03d80f8ae0fd"
      },
      "execution_count": 148,
      "outputs": [
        {
          "output_type": "stream",
          "name": "stdout",
          "text": [
            "       10   100   100\n",
            "i= 9   0.42857142857142855   4.285714285714286   4.285714285714286\n",
            "\n",
            "i= 10   0.47619047619047616   4.761904761904762   4.761904761904762\n",
            "Paradox! 10\n",
            "\n"
          ]
        }
      ]
    }
  ]
}