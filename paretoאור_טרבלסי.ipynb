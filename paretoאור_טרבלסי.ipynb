{
  "nbformat": 4,
  "nbformat_minor": 0,
  "metadata": {
    "colab": {
      "provenance": [],
      "collapsed_sections": [],
      "authorship_tag": "ABX9TyPBYpa+BDuOgmVH3AShXlO5",
      "include_colab_link": true
    },
    "kernelspec": {
      "name": "python3",
      "display_name": "Python 3"
    },
    "language_info": {
      "name": "python"
    }
  },
  "cells": [
    {
      "cell_type": "markdown",
      "metadata": {
        "id": "view-in-github",
        "colab_type": "text"
      },
      "source": [
        "<a href=\"https://colab.research.google.com/github/ortrsa/Economic-algorithms/blob/main/pareto%D7%90%D7%95%D7%A8_%D7%98%D7%A8%D7%91%D7%9C%D7%A1%D7%99.ipynb\" target=\"_parent\"><img src=\"https://colab.research.google.com/assets/colab-badge.svg\" alt=\"Open In Colab\"/></a>"
      ]
    },
    {
      "cell_type": "markdown",
      "source": [
        "אור טרבלסי - מטלה 2 שאלה 1"
      ],
      "metadata": {
        "id": "kOVMCnFcrXWF"
      }
    },
    {
      "cell_type": "markdown",
      "source": [
        "#יצירת מחלקת שחקן "
      ],
      "metadata": {
        "id": "7zPtCeuEhm6J"
      }
    },
    {
      "cell_type": "code",
      "execution_count": null,
      "metadata": {
        "id": "-jSVDX66TY7V"
      },
      "outputs": [],
      "source": [
        "class Agent:\n",
        "  \n",
        "  def __init__(self, values:list):\n",
        "    self.vals = values\n",
        "\n",
        "    \n",
        "  def value(self, option:int) -> float:\n",
        "    return self.vals[option]\n"
      ]
    },
    {
      "cell_type": "markdown",
      "source": [
        "# איתחול שחקנים והכנסה לרשימה"
      ],
      "metadata": {
        "id": "_lgt1-4Bhy0V"
      }
    },
    {
      "cell_type": "code",
      "source": [
        "A = Agent(list(range(1,6)))\n",
        "T = Agent([3,1,2,5,4])\n",
        "R = Agent([3,5,5,1,1])\n",
        "\n",
        "AgentList = [A,T,R]"
      ],
      "metadata": {
        "id": "BG82xRbRVlS1"
      },
      "execution_count": null,
      "outputs": []
    },
    {
      "cell_type": "code",
      "source": [
        "for i in AgentList:\n",
        "  print(i.vals)\n"
      ],
      "metadata": {
        "colab": {
          "base_uri": "https://localhost:8080/"
        },
        "id": "L48xq8iOVoI7",
        "outputId": "1342a7f3-d5b3-41e7-ff77-238376233e31"
      },
      "execution_count": null,
      "outputs": [
        {
          "output_type": "stream",
          "name": "stdout",
          "text": [
            "[1, 2, 3, 4, 5]\n",
            "[3, 1, 2, 5, 4]\n",
            "[3, 5, 5, 1, 1]\n"
          ]
        }
      ]
    },
    {
      "cell_type": "code",
      "source": [
        "A.value(1)"
      ],
      "metadata": {
        "colab": {
          "base_uri": "https://localhost:8080/"
        },
        "id": "n6-yKKjPVqPS",
        "outputId": "feed2c77-f1c7-4e69-8d9d-5d4b06863136"
      },
      "execution_count": null,
      "outputs": [
        {
          "output_type": "execute_result",
          "data": {
            "text/plain": [
              "2"
            ]
          },
          "metadata": {},
          "execution_count": 4
        }
      ]
    },
    {
      "cell_type": "markdown",
      "source": [
        "# סעיף א: בדיקת שיפור פארטו"
      ],
      "metadata": {
        "id": "cRsyNacwh4wu"
      }
    },
    {
      "cell_type": "code",
      "source": [
        "def isParetoImprovement(agents:list, option1:int, option2:int) -> bool:\n",
        "  improve = False\n",
        "  for agent in agents:\n",
        "    if agent.value(option1) < agent.value(option2):\n",
        "      return False\n",
        "    if agent.value(option1) > agent.value(option2):\n",
        "      improve = True\n",
        "\n",
        "  return improve\n",
        "\n",
        "\n"
      ],
      "metadata": {
        "id": "JWTS5T3SWEij"
      },
      "execution_count": null,
      "outputs": []
    },
    {
      "cell_type": "code",
      "source": [
        "isParetoImprovement(AgentList, 2,1)"
      ],
      "metadata": {
        "colab": {
          "base_uri": "https://localhost:8080/"
        },
        "id": "6rU-Zx43YPLM",
        "outputId": "a6a2838b-194c-4c1b-d160-f1e63e8e33e0"
      },
      "execution_count": null,
      "outputs": [
        {
          "output_type": "execute_result",
          "data": {
            "text/plain": [
              "True"
            ]
          },
          "metadata": {},
          "execution_count": 6
        }
      ]
    },
    {
      "cell_type": "markdown",
      "source": [
        "# סעיף ב: בדיקת יעילות פארטו"
      ],
      "metadata": {
        "id": "tfgmee37h_Qw"
      }
    },
    {
      "cell_type": "code",
      "source": [
        "def isParetoOptimal(agents:list, option:int, allOptions:list):\n",
        "  for op in allOptions:\n",
        "    if isParetoImprovement(agents, op, option) and op != option:\n",
        "      return False\n",
        "  return True"
      ],
      "metadata": {
        "id": "vVrSpUMsYhZX"
      },
      "execution_count": null,
      "outputs": []
    },
    {
      "cell_type": "code",
      "source": [
        "isParetoOptimal(AgentList, 0, range(5))"
      ],
      "metadata": {
        "colab": {
          "base_uri": "https://localhost:8080/"
        },
        "id": "lq-yC2eGaL77",
        "outputId": "c20aeb59-438e-456c-b64e-b1622c32671c"
      },
      "execution_count": null,
      "outputs": [
        {
          "output_type": "execute_result",
          "data": {
            "text/plain": [
              "True"
            ]
          },
          "metadata": {},
          "execution_count": 8
        }
      ]
    },
    {
      "cell_type": "markdown",
      "source": [
        "# בדיקת האפשרויות היעילות פארטו:"
      ],
      "metadata": {
        "id": "fKOayG6giJBt"
      }
    },
    {
      "cell_type": "code",
      "source": [
        "for i in range(5):\n",
        "  if isParetoOptimal(AgentList, i, range(5)):\n",
        "    print(i)"
      ],
      "metadata": {
        "colab": {
          "base_uri": "https://localhost:8080/"
        },
        "id": "3j-8DdRMbAU7",
        "outputId": "0735910a-cd6b-4c28-c921-6395e4a2739d"
      },
      "execution_count": null,
      "outputs": [
        {
          "output_type": "stream",
          "name": "stdout",
          "text": [
            "0\n",
            "2\n",
            "3\n",
            "4\n"
          ]
        }
      ]
    }
  ]
}